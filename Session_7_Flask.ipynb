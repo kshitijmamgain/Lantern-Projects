{
 "cells": [
  {
   "cell_type": "code",
   "execution_count": null,
   "metadata": {},
   "outputs": [],
   "source": [
    "# Installing and set up \n",
    "# pip install flask\n",
    "\n",
    "# There are different ways to work  \n",
    "# 1- Through PyCharm\n",
    "# 2- Throguh Jupyter\n",
    "# 3- Through command-line"
   ]
  },
  {
   "cell_type": "code",
   "execution_count": 1,
   "metadata": {},
   "outputs": [],
   "source": [
    "from flask import Flask "
   ]
  },
  {
   "cell_type": "code",
   "execution_count": 2,
   "metadata": {},
   "outputs": [],
   "source": [
    "# Main app (main website)\n",
    "app = Flask(__name__)"
   ]
  },
  {
   "cell_type": "code",
   "execution_count": 3,
   "metadata": {},
   "outputs": [
    {
     "name": "stdout",
     "output_type": "stream",
     "text": [
      " * Serving Flask app \"__main__\" (lazy loading)\n",
      " * Environment: production\n",
      "   WARNING: Do not use the development server in a production environment.\n",
      "   Use a production WSGI server instead.\n",
      " * Debug mode: on\n"
     ]
    },
    {
     "name": "stderr",
     "output_type": "stream",
     "text": [
      " * Running on http://127.0.0.1:5000/ (Press CTRL+C to quit)\n",
      " * Restarting with stat\n"
     ]
    },
    {
     "ename": "SystemExit",
     "evalue": "1",
     "output_type": "error",
     "traceback": [
      "An exception has occurred, use %tb to see the full traceback.\n",
      "\u001b[0;31mSystemExit\u001b[0m\u001b[0;31m:\u001b[0m 1\n"
     ]
    },
    {
     "name": "stderr",
     "output_type": "stream",
     "text": [
      "/Users/AA/anaconda3/lib/python3.7/site-packages/IPython/core/interactiveshell.py:3275: UserWarning: To exit: use 'exit', 'quit', or Ctrl-D.\n",
      "  warn(\"To exit: use 'exit', 'quit', or Ctrl-D.\", stacklevel=1)\n"
     ]
    }
   ],
   "source": [
    "# We will have many pages. We are connecting them through routing :\n",
    "# root directory :\n",
    "@app.route('/')\n",
    "def index():\n",
    "    return 'This is the Homepage !'\n",
    "# This is routing (or mapping) that ties the URL to a Python function\n",
    "\n",
    "\n",
    "# Now, lets make sure we kick off the server:\n",
    "if __name__ == \"__main__\":\n",
    "    app.run(debug=True)  # debug mode as we are in the developer mode \n",
    "# As seen before, this makes sure that we only run the app (start the web server) whenever thsi file is called directly.\n",
    "# Sometimes we do not do that (like import it into another program)\n",
    "\n",
    "\n",
    "# Now lets run it !"
   ]
  },
  {
   "cell_type": "markdown",
   "metadata": {},
   "source": [
    "## Routing :"
   ]
  },
  {
   "cell_type": "code",
   "execution_count": null,
   "metadata": {
    "collapsed": true
   },
   "outputs": [],
   "source": [
    "# Now add another URL to see the routing at work :\n",
    "\n",
    "from flask import Flask\n",
    "\n",
    "app = Flask(__name__)\n",
    "\n",
    "\n",
    "@app.route('/')\n",
    "@app.route('/index.html')\n",
    "def index():\n",
    "    return \"Hello, World!\"\n",
    "\n",
    "\n",
    "@app.route('/Lantern')\n",
    "def NuPhysics():\n",
    "    return '<h2> Lantern is an intersting Place ! </h2> '  # Lets add some html code\n",
    "\n",
    "\n",
    "if __name__ == \"__main__\":\n",
    "    app.run(debug=True)\n",
    "    \n",
    "# There are better ways to do this as we will see !\n"
   ]
  },
  {
   "cell_type": "code",
   "execution_count": null,
   "metadata": {
    "collapsed": true
   },
   "outputs": [],
   "source": [
    "# Using Variables !\n",
    "\n",
    "# Lets say we have a profile page \n",
    "\n",
    "from flask import Flask\n",
    "\n",
    "app = Flask(__name__)\n",
    "\n",
    "\n",
    "@app.route('/')\n",
    "@app.route('/index')\n",
    "def index():\n",
    "    return \"Hello, World!\"\n",
    "\n",
    "\n",
    "@app.route('/Lantern')\n",
    "def NuPhysics():\n",
    "    return '<h2> Lantern is an intersting Place ! </h2> '  # Lets add some html code\n",
    "\n",
    "\n",
    "\n",
    "@app.route('/Profile/<username>')  #Variables go in angle brackets \n",
    "def profile(username):\n",
    "    return 'Hi there, %s' %s \n",
    "#    return 'Hi there, {}'.format(username)\n",
    "\n",
    "\n",
    "\n",
    "\n",
    "if __name__ == \"__main__\":\n",
    "    app.run(debug=True)\n",
    "    \n"
   ]
  },
  {
   "cell_type": "code",
   "execution_count": null,
   "metadata": {
    "collapsed": true
   },
   "outputs": [],
   "source": [
    "# Adding integers :\n",
    "# Lets say we are looking at news  feed and we want to identify posts based on an ID\n",
    "\n",
    "from flask import Flask\n",
    "\n",
    "app = Flask(__name__)\n",
    "\n",
    "\n",
    "@app.route('/')\n",
    "@app.route('/index')\n",
    "def index():\n",
    "    return \"Hello, World!\"\n",
    "\n",
    "\n",
    "@app.route('/Lantern')\n",
    "def NuPhysics():\n",
    "    return '<h2> Lantern is an intersting Place ! </h2> '  # Lets add some html code\n",
    "\n",
    "\n",
    "\n",
    "@app.route('/Profile/<username>')  #Variables go in angle brackets \n",
    "def profile(username):\n",
    "    return 'Hi there, %s' %s \n",
    "#    return 'Hi there, {}'.format(username)\n",
    "\n",
    "\n",
    "@app.route('/Post/<int:post_id>')  \n",
    "def show_post(username):   # Look at the function name \n",
    "    return 'The post ID # is , %s' %post_id \n",
    "\n",
    "\n",
    "if __name__ == \"__main__\":\n",
    "    app.run(debug=True)\n",
    "    \n"
   ]
  },
  {
   "cell_type": "markdown",
   "metadata": {},
   "source": [
    "# HTTP methods:"
   ]
  },
  {
   "cell_type": "code",
   "execution_count": 1,
   "metadata": {},
   "outputs": [],
   "source": [
    "from flask import Flask, request\n",
    "\n",
    "app = Flask?"
   ]
  },
  {
   "cell_type": "code",
   "execution_count": null,
   "metadata": {
    "collapsed": true
   },
   "outputs": [],
   "source": [
    "# How flask is responding to different HTTP methods !\n",
    "# In particular : Get and Post \n",
    "\n",
    "# By default, whenever we request a url page, we are using GET method\n",
    "\n",
    "# But sometimes users need to submit info \n",
    "\n",
    "# new module : Resuest : How the users requested a resource \n",
    "\n",
    "\n",
    "from flask import Flask, request\n",
    "\n",
    "app = Flask(__name__)\n",
    "\n",
    "\n",
    "@app.route('/')\n",
    "def index():\n",
    "    return \"Method used : %s\" % request.method\n",
    "\n",
    "\n",
    "\n",
    "if __name__ == \"__main__\":\n",
    "    app.run(debug=True)\n",
    "    \n",
    "\n",
    "\n"
   ]
  },
  {
   "cell_type": "code",
   "execution_count": null,
   "metadata": {
    "collapsed": true
   },
   "outputs": [],
   "source": [
    "# How do we do POST method ? Lets create a login form \n",
    "\n",
    "from flask import Flask, request\n",
    "\n",
    "app = Flask(__name__)\n",
    "\n",
    "\n",
    "@app.route('/')\n",
    "def index():\n",
    "    return \"Method used : %s\" % request.method\n",
    "\n",
    "\n",
    "@app.route('/login', methods= ['GET','POST'])\n",
    "def login():\n",
    "    \n",
    "    if request.method == 'GET':\n",
    "        return ('This is a GET request')\n",
    "    elif request.method == 'POST': \n",
    "        return ('This is a POST request')\n",
    "\n",
    "\n",
    "if __name__ == \"__main__\":\n",
    "    app.run(debug=True)\n",
    "    \n",
    "\n",
    "\n"
   ]
  },
  {
   "cell_type": "code",
   "execution_count": null,
   "metadata": {
    "collapsed": true
   },
   "outputs": [],
   "source": [
    "# How do we do POST method ? Lets change the login page \n",
    "\n",
    "from flask import Flask, request\n",
    "\n",
    "app = Flask(__name__)\n",
    "\n",
    "\n",
    "@app.route('/')\n",
    "def index():\n",
    "    return \"Method used : %s\" % request.method\n",
    "\n",
    "\n",
    "\n",
    "@app.route('/login', methods=['GET', 'POST']) #allow both GET and POST requests\n",
    "def login_form():\n",
    "    \n",
    "    \n",
    "    if request.method == 'POST': #this block is only entered when the form is submitted\n",
    "        return 'This was a  POST method !'\n",
    "\n",
    "    return ''' This was a Get state :\n",
    "    \n",
    "                <form method=\"POST\">\n",
    "                  Username: <input type=\"text\" name=\"language\"><br>\n",
    "                  Password: <input type=\"text\" name=\"framework\"><br>\n",
    "                  <input type=\"submit\" value=\"Submit\"><br>\n",
    "              </form>'''\n",
    "\n",
    "\n",
    "\n",
    "if __name__ == \"__main__\":\n",
    "    app.run(debug=True)\n",
    "\n",
    "    \n",
    "\n",
    "\n"
   ]
  },
  {
   "cell_type": "markdown",
   "metadata": {},
   "source": [
    "# Templates and static files :"
   ]
  },
  {
   "cell_type": "code",
   "execution_count": 1,
   "metadata": {
    "collapsed": true
   },
   "outputs": [],
   "source": [
    "# When you make an actual website, you will have many files that make up your webpages.\n",
    "# Examples : images css, java scripts, html \n",
    "# The way to organize them is pre-determined by flask"
   ]
  },
  {
   "cell_type": "code",
   "execution_count": null,
   "metadata": {
    "collapsed": true
   },
   "outputs": [],
   "source": [
    "# We just saw that we can put html in the flask code :\n",
    "\n",
    "\n",
    "from flask import Flask\n",
    "\n",
    "app = Flask(__name__)\n",
    "\n",
    "\n",
    "@app.route('/')\n",
    "def index():\n",
    "    return \"<h2> Homepage </h2> \"\n",
    "\n",
    "if __name__ == \"__main__\":\n",
    "    app.run(debug=True)\n",
    "    "
   ]
  },
  {
   "cell_type": "code",
   "execution_count": null,
   "metadata": {
    "collapsed": true
   },
   "outputs": [],
   "source": [
    "# But the rules is not to put html in the flask code\n",
    "# So, we will use templates \n",
    "# It is a layout:\n",
    "\n",
    "# 1- Import render template :\n",
    "from flask import Flask, render_template\n",
    "\n",
    "# 2- Create the directories : \n",
    "    #templates: html files go on there  \n",
    "    #static: static files that don't change: for example css\n",
    "    \n",
    "    \n",
    "# Lets make a profile.html and use it in the simple example below :\n",
    "\n",
    "\n",
    "from flask import Flask, render_template\n",
    "\n",
    "app = Flask(__name__)\n",
    "\n",
    "\n",
    "@app.route('/profile/<name>')\n",
    "def profile(name):\n",
    "    return render_template(\"profile.html\", name=name)\n",
    "\n",
    "if __name__ == \"__main__\":\n",
    "    app.run(debug=True)\n",
    "\n",
    "\n",
    "# mkdir templates    \n",
    "\n",
    "# Note : When performing HTML validation testing on a web page it tells the \n",
    "###  HTML (HyperText Markup Language) :\n",
    "\n",
    "#<! doctype html> :validator which version of (X)HTML standard the web page coding is supposed to comply with. \n",
    "\n",
    "<! doctype html> \n",
    "\n",
    "<title> Our Magestic HTML Page ! </title>\n",
    "\n",
    "<h1> Hi there {{name}} </h1>\n"
   ]
  },
  {
   "cell_type": "code",
   "execution_count": null,
   "metadata": {
    "collapsed": true
   },
   "outputs": [],
   "source": [
    "# OK lets go one step further and make the webpage more pretty \n",
    "\n",
    "# Lets use some css : In static folder : style.css\n",
    "\n",
    "# We need to specify to use this css file for the profile.html \n",
    "\n",
    "<! doctype html>\n",
    "<title> Our Magestic HTML Page ! </title>\n",
    "\n",
    "<link rel=\"stylesheet\" type=\"text/css\" href= \"/static/style.css\" >  \n",
    "\n",
    "<h1> Hi there {{name}} </h1>\n",
    "\n",
    "# Link : The <link> tag defines a link between a document and an external resource.\n",
    "# rel : Required. Specifies the relationship between the current document and the linked document\n",
    "# type : Specifies the media type of the linked document\n",
    "#href: Specifies the location of the linked document\n",
    "\n",
    "# We used a flask function for href : it makes it dynamic\n",
    "\n"
   ]
  },
  {
   "cell_type": "markdown",
   "metadata": {},
   "source": [
    "### What is CSS?\n",
    "\n",
    "    CSS stands for Cascading Style Sheets\n",
    "    CSS describes how HTML elements are to be displayed on screen, paper, or in other media\n",
    "    CSS saves a lot of work. It can control the layout of multiple web pages all at once\n",
    "    External stylesheets are stored in CSS files\n"
   ]
  },
  {
   "cell_type": "code",
   "execution_count": null,
   "metadata": {},
   "outputs": [],
   "source": [
    "#In the style.css file :\n",
    "\n",
    "h1 {\n",
    "    text-align: center;\n",
    "    color: red;\n",
    "}"
   ]
  },
  {
   "cell_type": "markdown",
   "metadata": {},
   "source": [
    "### Dynamic addresses with \"url_for\" :"
   ]
  },
  {
   "cell_type": "code",
   "execution_count": null,
   "metadata": {},
   "outputs": [],
   "source": [
    "# Lets change the template file to contain a dynamic address allocation :\n",
    "\n",
    "<! doctype html>\n",
    "<title> Our Magestic HTML Page ! </title>\n",
    "\n",
    "<link rel=\"stylesheet\" type=\"text/css\" href= \"{{ url_for('static', filename='style.css) }}\" > \n",
    "\n",
    "<h1> Hi there {{name}} </h1>"
   ]
  },
  {
   "cell_type": "code",
   "execution_count": null,
   "metadata": {
    "collapsed": true
   },
   "outputs": [],
   "source": [
    "# Now run it again and look at the source code:\n",
    "\n",
    "<! doctype html>\n",
    "\n",
    "<title> Our Magestic HTML Page ! </title>\n",
    "\n",
    "<link rel=\"stylesheet\" type=\"text/css\" href= \"/static/style.css\" >  \n",
    "<h1> Hi there Alireza </h1>\n",
    "\n",
    "# It generated the URL for us !\n",
    "# We could have just used the address directly. But it is helpful when we move files around "
   ]
  },
  {
   "cell_type": "markdown",
   "metadata": {},
   "source": [
    "### Mapping multiple URLs into a single function :"
   ]
  },
  {
   "cell_type": "code",
   "execution_count": null,
   "metadata": {
    "collapsed": true
   },
   "outputs": [],
   "source": [
    "# For example you want the homepage to change depending whether the use is logged in or not \n",
    "\n",
    "# We can take two different URLs and mapp them to the same funtion \n",
    "\n",
    "# By default, we set it to None \n",
    "\n",
    "\n",
    "from flask import Flask,render_template\n",
    "\n",
    "app = Flask(__name__)\n",
    "\n",
    "\n",
    "@app.route('/')\n",
    "@app.route('/<user>')\n",
    "def index(user=None):\n",
    "    return render_template(\"user.html\", user=user)\n",
    "\n",
    "if __name__ == \"__main__\":\n",
    "    app.run(debug=True)\n",
    "\n",
    "    "
   ]
  },
  {
   "cell_type": "code",
   "execution_count": null,
   "metadata": {
    "collapsed": true
   },
   "outputs": [],
   "source": [
    "# Now lets make the user.html file\n",
    "# Note: anything you write  as {%  %} in html is going to be read as a Flask code\n",
    "\n",
    "<! doctype html>\n",
    "\n",
    "{% if user %} \n",
    "    <h1> Hello {{ user }} </h1>\n",
    "{% else %} \n",
    "    <h1> Please log in ! </h1>\n",
    "{% endif %} "
   ]
  },
  {
   "cell_type": "markdown",
   "metadata": {},
   "source": [
    "## Other types of object in the template"
   ]
  },
  {
   "cell_type": "code",
   "execution_count": null,
   "metadata": {
    "collapsed": true
   },
   "outputs": [],
   "source": [
    "# So far, we learned we can pass simple variables in the template\n",
    "# What if we want to pass on more complex objects into temnplate such as an entire python list ?\n",
    "\n",
    "# We are going to make s webpage and pass on a list \n",
    "\n",
    "#Start from the back end :\n",
    "\n",
    "from flask import Flask,render_template\n",
    "\n",
    "app = Flask(__name__)\n",
    "\n",
    "\n",
    "@app.route('/')\n",
    "@app.route('/<user>')\n",
    "def index(user=None):\n",
    "    return render_template(\"user.html\", user=user)\n",
    "\n",
    "\n",
    "@app.route('/listing')\n",
    "def listing():\n",
    "    mylist=[\"item1\",\"item2\",\"item3\"]\n",
    "    return render_template(\"listing.html\", listing=mylist)\n",
    "\n",
    "if __name__ == \"__main__\":\n",
    "    app.run(debug=True)\n",
    "\n"
   ]
  },
  {
   "cell_type": "code",
   "execution_count": null,
   "metadata": {
    "collapsed": true
   },
   "outputs": [],
   "source": [
    "# Lets make an html file : list.html\n",
    "\n",
    "#<ul> : unordered list\n",
    "\n",
    "<! doctype html>\n",
    "\n",
    "<ul>\n",
    "\n",
    "    {% for item in listing:%}\n",
    "\n",
    "        <li> {{ item }} </li>\n",
    "\n",
    "    {% endfor  %}\n",
    "\n",
    "</ul>\n"
   ]
  },
  {
   "cell_type": "markdown",
   "metadata": {},
   "source": [
    "# Extras:\n",
    "1- \n",
    "2- Mega Tutorial"
   ]
  },
  {
   "cell_type": "markdown",
   "metadata": {},
   "source": [
    "# Mega:"
   ]
  },
  {
   "cell_type": "code",
   "execution_count": null,
   "metadata": {},
   "outputs": [],
   "source": [
    "# OK, lets slowly build on that.\n",
    "# A different way of doing what we did so dar : using a dictionary + template\n",
    "\n",
    "\n",
    "- Mkdir app\n",
    "- mkdir app/templates\n",
    "- app/templates/index.html:\n",
    "    \n",
    "<html>\n",
    "    <head>\n",
    "        <title>{{ title }}</title>\n",
    "    </head>\n",
    "    <body>\n",
    "        <h1>Hello, {{ user.username }}!</h1>\n",
    "    </body>\n",
    "</html>\n",
    "\n",
    "\n",
    "- app/routes.py: Use render\\_template() function\n",
    "\n",
    "from flask import Flask,render_template\n",
    "\n",
    "app=Flask(__name__)\n",
    "\n",
    "@app.route('/')\n",
    "@app.route('/index')\n",
    "def index():\n",
    "    user = {'username': 'Alireza'}\n",
    "    return render_template('index.html', title='Home', user=user)\n",
    "\n",
    "app.run()"
   ]
  },
  {
   "cell_type": "markdown",
   "metadata": {},
   "source": [
    "### Loops\n",
    "\n",
    "The logged in user will probably want to see recent posts from connected users in the home page, so we can extend the application to support that.\n",
    "\n",
    "app/routes.py: Fake posts in view function"
   ]
  },
  {
   "cell_type": "code",
   "execution_count": null,
   "metadata": {},
   "outputs": [],
   "source": [
    "# on the app side\n",
    "\n",
    "from flask import Flask,render_template\n",
    "\n",
    "app = Flask(__name__)\n",
    "\n",
    "\n",
    "@app.route('/')\n",
    "@app.route('/index')\n",
    "def index():\n",
    "    user = {'username': 'Tom'}\n",
    "    posts = [\n",
    "        {\n",
    "            'author': {'username': 'John'},\n",
    "            'body': 'Beautiful day in Portland!'\n",
    "        },\n",
    "        {\n",
    "            'author': {'username': 'Susan'},\n",
    "            'body': 'The Avengers movie was so cool!'\n",
    "        }\n",
    "    ]\n",
    "    return render_template('index.html', title='Home', user=user, posts=posts)\n",
    "\n",
    "if __name__ == \"__main__\":\n",
    "    app.run()\n",
    "\n",
    "\n",
    "# on the index.html side:\n",
    "\n",
    "<html>\n",
    "    <head>\n",
    "        {% if title %}\n",
    "        <title>{{ title }}</title>\n",
    "        {% else %}\n",
    "        <title>Welcome to Microblog</title>\n",
    "        {% endif %}\n",
    "    </head>\n",
    "    <body>\n",
    "        <h1>Hi, {{ user.username }}!</h1>\n",
    "        {% for post in posts %}\n",
    "        <div><p>{{ post.author.username }} says: <b>{{ post.body }}</b></p></div>\n",
    "        {% endfor %}\n",
    "    </body>\n",
    "</html>"
   ]
  },
  {
   "cell_type": "code",
   "execution_count": null,
   "metadata": {},
   "outputs": [],
   "source": []
  },
  {
   "cell_type": "markdown",
   "metadata": {},
   "source": [
    "#### You can already get a feeling of how fancy social network and blogging works !"
   ]
  },
  {
   "cell_type": "markdown",
   "metadata": {},
   "source": [
    "## Template Inheritance\n",
    "\n",
    "Most web applications these days have a navigation bar at the top of the page with a few frequently used links, such as a link to edit your profile, to login, logout, etc.\n",
    "\n",
    "Lets create a navigation bar in other pages: define a base template called base.html that includes a simple navigation bar and also the title logic\n"
   ]
  },
  {
   "cell_type": "code",
   "execution_count": null,
   "metadata": {},
   "outputs": [],
   "source": [
    "#base.html\n",
    "<html>\n",
    "    <head>\n",
    "      {% if title %}\n",
    "      <title>{{ title }}</title>\n",
    "      {% else %}\n",
    "      <title>Welcome to our Flask Test Page</title>\n",
    "      {% endif %}\n",
    "    </head>\n",
    "    \n",
    "    <body>\n",
    "        <div>Home Page: <a href=\"/index\">Home</a></div>\n",
    "            \n",
    "        <hr>\n",
    "        {% block content %}{% endblock %}\n",
    "    </body>\n",
    "    \n",
    "</html>\n",
    "\n",
    "\n",
    "# block control statement to define the place where the derived templates can insert themselves. \n",
    "#Blocks are given a unique name, which derived templates can reference when they provide their content."
   ]
  },
  {
   "cell_type": "code",
   "execution_count": null,
   "metadata": {},
   "outputs": [],
   "source": [
    "#index.html: Inherit from base template\n",
    "\n",
    "{% extends \"base.html\" %}\n",
    "\n",
    "{% block content %}\n",
    "    <h1>Hi, {{ user.username }}!</h1>\n",
    "    \n",
    "    {% for post in posts %}\n",
    "    <div><p>{{ post.author.username }} says: <b>{{ post.body }}</b></p></div>\n",
    "    {% endfor %}\n",
    "    \n",
    "{% endblock %}"
   ]
  },
  {
   "cell_type": "markdown",
   "metadata": {},
   "source": [
    "### Web Forms:\n",
    "how to accept input from users through web forms."
   ]
  },
  {
   "cell_type": "markdown",
   "metadata": {},
   "source": [
    "### Introduction to Flask-WTF\n",
    "\n",
    "We use the Flask-WTF extension, which is a thin wrapper around the WTForms package that nicely integrates it with Flask.\n",
    "\n",
    "Flask extensions are regular Python packages that are installed with pip. \n",
    "\n",
    "pip install flask-wtf"
   ]
  },
  {
   "cell_type": "markdown",
   "metadata": {},
   "source": [
    "### User Login Form\n",
    "\n",
    "The Flask-WTF extension uses Python classes to represent web forms. A form class simply defines the fields of the form as class variables."
   ]
  },
  {
   "cell_type": "code",
   "execution_count": null,
   "metadata": {},
   "outputs": [],
   "source": [
    "# #app/forms.py: Login form\n",
    "\n",
    "# from flask_wtf import FlaskForm\n",
    "# from wtforms import StringField, PasswordField, BooleanField, SubmitField\n",
    "# from wtforms.validators import DataRequired\n",
    "\n",
    "# class LoginForm(FlaskForm):\n",
    "#     username = StringField('Username', validators=[DataRequired()])\n",
    "#     password = PasswordField('Password', validators=[DataRequired()])\n",
    "#     remember_me = BooleanField('Remember Me')\n",
    "#     submit = SubmitField('Sign In')"
   ]
  },
  {
   "cell_type": "code",
   "execution_count": null,
   "metadata": {},
   "outputs": [],
   "source": [
    "# routes.py\n",
    "\n",
    "from flask import Flask,render_template\n",
    "\n",
    "from flask_wtf import FlaskForm\n",
    "from wtforms import StringField, PasswordField, BooleanField, SubmitField\n",
    "from wtforms.validators import DataRequired\n",
    "\n",
    "app=Flask(__name__)\n",
    "app.config['SECRET_KEY'] = 'NuPhysics_Students_Rock!'\n",
    "\n",
    "class LoginForm(FlaskForm):\n",
    "    username = StringField('Username', validators=[DataRequired()])\n",
    "    password = PasswordField('Password', validators=[DataRequired()])\n",
    "    remember_me = BooleanField('Remember Me')\n",
    "    submit = SubmitField('Sign In')\n",
    "\n",
    "\n",
    "\n",
    "@app.route('/')\n",
    "@app.route('/index')\n",
    "\n",
    "def index():\n",
    "    user = {'username': 'Alireza'}\n",
    "    posts = [\n",
    "        {\n",
    "            'author': {'username': 'John'},\n",
    "            'body': 'Beautiful day in Portland!'\n",
    "        },\n",
    "        {\n",
    "            'author': {'username': 'Susan'},\n",
    "            'body': 'The Avengers movie was so cool!'\n",
    "        }\n",
    "    ]\n",
    "    return render_template('index.html', title='Home', user=user, posts=posts)\n",
    "\n",
    "@app.route('/login')\n",
    "def login():\n",
    "    form = LoginForm()\n",
    "    return render_template('login.html', title='Sign In', form=form)\n",
    "\n",
    "app.run()"
   ]
  },
  {
   "cell_type": "code",
   "execution_count": null,
   "metadata": {},
   "outputs": [],
   "source": [
    "# But if you run this app, it fails: \n",
    "\"\"\"Method Not Allowed.\n",
    "The method is not allowed for the requested URL.\"\"\"\n",
    "\n",
    "#This is because the login view function can display the form on a web page, \n",
    "#but it has no logic to process data submitted by the user yet. "
   ]
  },
  {
   "cell_type": "markdown",
   "metadata": {},
   "source": [
    "### Receiving Form Data:"
   ]
  },
  {
   "cell_type": "code",
   "execution_count": null,
   "metadata": {},
   "outputs": [],
   "source": [
    "# Add method to the decorator:\n",
    "\n",
    "from flask import flash, redirect\n",
    "@app.route('/login', methods=['GET', 'POST'])\n",
    "def login():\n",
    "    form = LoginForm()\n",
    "    if form.validate_on_submit():\n",
    "        flash('Login requested for user {}, remember_me={}'.format(\n",
    "            form.username.data, form.remember_me.data))\n",
    "        return redirect('/index')\n",
    "    return render_template('login.html', title='Sign In', form=form)\n",
    "\n",
    "#The form.validate_on_submit() method does all the form processing work. \n",
    "#When the browser sends the GET request to receive the web page with the form, \n",
    "#this method is going to return False, so in that case the function skips the if statement \n",
    "#and goes directly to render the template in the last line of the function. \n",
    "\n"
   ]
  },
  {
   "cell_type": "markdown",
   "metadata": {},
   "source": [
    "### flash():\n",
    "\n",
    "In the current format, the app runs the flash command and then redirects to the index page (Homepage). \n",
    "\n",
    "To see the contents of the flash, we need to modify the \"base\" template:"
   ]
  },
  {
   "cell_type": "code",
   "execution_count": null,
   "metadata": {},
   "outputs": [],
   "source": [
    "# Before:\n",
    "<html>\n",
    "    <head>\n",
    "      {% if title %}\n",
    "      <title>{{ title }}</title>\n",
    "      {% else %}\n",
    "      <title>Welcome to our Flask Test Page</title>\n",
    "      {% endif %}\n",
    "    </head>\n",
    "    \n",
    "    <body>\n",
    "        <div>Home Page: <a href=\"/index\">Home</a></div>\n",
    "            \n",
    "        <hr>\n",
    "        {% block content %}{% endblock %}\n",
    "    </body>\n",
    "    \n",
    "</html>\n",
    "\n",
    "\n",
    "\n",
    "# After :\n",
    "\n",
    "<html>\n",
    "    <head>\n",
    "        {% if title %}\n",
    "        <title>{{ title }} - microblog</title>\n",
    "        {% else %}\n",
    "        <title>Welcome to our Flask Test Page</title>\n",
    "        {% endif %}\n",
    "    </head>\n",
    "    <body>\n",
    "        <div>\n",
    "            Home Page:\n",
    "            <a href=\"/index\">Home</a>\n",
    "\n",
    "            <a href=\"/login\">Login</a>\n",
    "        </div>\n",
    "        <hr>\n",
    "        {% with messages = get_flashed_messages() %}\n",
    "        {% if messages %}\n",
    "        <ul>\n",
    "            {% for message in messages %}\n",
    "            <li>{{ message }}</li>\n",
    "            {% endfor %}\n",
    "        </ul>\n",
    "        {% endif %}\n",
    "        {% endwith %}\n",
    "        \n",
    "        \n",
    "        {% block content %}{% endblock %}\n",
    "    </body>\n",
    "</html>"
   ]
  },
  {
   "cell_type": "markdown",
   "metadata": {},
   "source": [
    "- __with__ construct to assign the result of calling get_flashed_messages() to a messages variable.\n",
    "\n",
    "- __with__ statement allows the execution of initialization and finalization code around a block of code."
   ]
  },
  {
   "cell_type": "markdown",
   "metadata": {},
   "source": [
    "### Improving Field Validation:\n",
    "\n",
    "Adding additional logic to extract the descriptive error messages that are generated already and show them !"
   ]
  },
  {
   "cell_type": "code",
   "execution_count": null,
   "metadata": {},
   "outputs": [],
   "source": [
    "# Before:\n",
    "\n",
    "{% extends \"base.html\" %}\n",
    "\n",
    "{% block content %}\n",
    "    <h1>Hi, {{ user.username }}!</h1>\n",
    "    \n",
    "    {% for post in posts %}\n",
    "    <div><p>{{ post.author.username }} says: <b>{{ post.body }}</b></p></div>\n",
    "    {% endfor %}\n",
    "    \n",
    "{% endblock %}\n",
    "\n",
    "\n",
    "\n",
    "\n",
    "# AFter\n",
    "\n",
    "{% extends \"base.html\" %}\n",
    "\n",
    "{% block content %}\n",
    "    <h1>Sign In</h1>\n",
    "    <form action=\"\" method=\"post\">\n",
    "        {{ form.hidden_tag() }}\n",
    "        <p>\n",
    "            {{ form.username.label }}<br>\n",
    "            {{ form.username(size=32) }}<br>\n",
    "            {% for error in form.username.errors %}\n",
    "            <span style=\"color: red;\">[{{ error }}]</span>\n",
    "            {% endfor %}\n",
    "        </p>\n",
    "        <p>\n",
    "            {{ form.password.label }}<br>\n",
    "            {{ form.password(size=32) }}<br>\n",
    "            {% for error in form.password.errors %}\n",
    "            <span style=\"color: red;\">[{{ error }}]</span>\n",
    "            {% endfor %}\n",
    "        </p>\n",
    "        <p>{{ form.remember_me() }} {{ form.remember_me.label }}</p>\n",
    "        <p>{{ form.submit() }}</p>\n",
    "    </form>\n",
    "{% endblock %}"
   ]
  },
  {
   "cell_type": "markdown",
   "metadata": {},
   "source": [
    "- Added for loops right after the username and password fields that render the error messages added by the validators in red color. \n",
    "\n",
    "- As a general rule, any fields that have validators attached will have error messages added under form.field_name.errors."
   ]
  },
  {
   "cell_type": "markdown",
   "metadata": {},
   "source": [
    "### Generating Links:\n",
    "\n",
    "- The links we have defined so far have absolute path. \n",
    "- That creates a problem if we decide to reorganize !\n",
    "- Use \"url_for()\", which generates URLs using its internal mapping of URLs to view functions.\n",
    "- url_for('login') returns /login, and url_for('index') return '/index. "
   ]
  },
  {
   "cell_type": "code",
   "execution_count": null,
   "metadata": {},
   "outputs": [],
   "source": [
    "#Now in base.html :\n",
    " <div>\n",
    "        Home Page:\n",
    "        <a href=\"/index\">Home</a>\n",
    "        <a href=\"/login\">Login</a>\n",
    "    </div>\n",
    "    \n",
    "# Becomes \n",
    "    <div>\n",
    "        Home Page:\n",
    "        <a href=\"{{ url_for('index') }}\">Home</a>\n",
    "        <a href=\"{{ url_for('login') }}\">Login</a>\n",
    "    </div>\n",
    "    \n",
    "# And in login() function in routes becomes \n",
    "\n",
    "@app.route('/login', methods=['GET', 'POST'])\n",
    "def login():\n",
    "    form = LoginForm()\n",
    "    if form.validate_on_submit():\n",
    "        # ...\n",
    "        return redirect(url_for('index'))\n",
    "    # ..."
   ]
  },
  {
   "cell_type": "markdown",
   "metadata": {},
   "source": [
    "### Databases in Flask\n",
    "\n",
    "- databases:\n",
    "    - relational model: SQL \n",
    "    - NoSQL\n",
    "    \n",
    "    \n",
    "- __Flask-SQLAlchemy:__ an extension that provides a Flask-friendly wrapper to the popular SQLAlchemy package\n",
    "\n",
    "\n",
    "- __SQLAlchemy package:__ Object Relational Mapper or ORM. ORMs allow applications to manage a database using high-level entities such as classes, objects and methods instead of tables and SQL. The job of the ORM is to translate the high-level operations into database commands.\n",
    "\n",
    "\n",
    "- __Installation:__ pip install flask-sqlalchemy\n",
    "\n",
    "\n",
    "- __Database Migrations:__ a Flask wrapper for Alembic, a database migration framework for SQLAlchemy: \n",
    "    - pip install flask-migrate\n",
    "    \n",
    "- __SQLite database :__ the most convenient choice for developing small applications:\n",
    "    - each database is stored in a single file on disk \n",
    "    - there is no need to run a database server like MySQL and PostgreSQL."
   ]
  },
  {
   "cell_type": "code",
   "execution_count": null,
   "metadata": {},
   "outputs": [],
   "source": []
  }
 ],
 "metadata": {
  "kernelspec": {
   "display_name": "Python 3",
   "language": "python",
   "name": "python3"
  },
  "language_info": {
   "codemirror_mode": {
    "name": "ipython",
    "version": 3
   },
   "file_extension": ".py",
   "mimetype": "text/x-python",
   "name": "python",
   "nbconvert_exporter": "python",
   "pygments_lexer": "ipython3",
   "version": "3.7.3"
  }
 },
 "nbformat": 4,
 "nbformat_minor": 2
}
