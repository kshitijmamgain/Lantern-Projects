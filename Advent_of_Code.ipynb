{
  "nbformat": 4,
  "nbformat_minor": 0,
  "metadata": {
    "colab": {
      "name": "Advent-of-Code.ipynb",
      "provenance": [],
      "collapsed_sections": [],
      "toc_visible": true,
      "authorship_tag": "ABX9TyPO8Rr2mNDUyln69fK6lB1D",
      "include_colab_link": true
    },
    "kernelspec": {
      "name": "python3",
      "display_name": "Python 3"
    }
  },
  "cells": [
    {
      "cell_type": "markdown",
      "metadata": {
        "id": "view-in-github",
        "colab_type": "text"
      },
      "source": [
        "<a href=\"https://colab.research.google.com/github/kshitijmamgain/Lantern-Projects/blob/master/Advent_of_Code.ipynb\" target=\"_parent\"><img src=\"https://colab.research.google.com/assets/colab-badge.svg\" alt=\"Open In Colab\"/></a>"
      ]
    },
    {
      "cell_type": "markdown",
      "metadata": {
        "id": "1uOlLy47ZHNf"
      },
      "source": [
        "#**Advent of Code Ques1 Part1**"
      ]
    },
    {
      "cell_type": "code",
      "metadata": {
        "id": "jY0gBQm0UsY1"
      },
      "source": [
        "input_int = '''1895\r\n",
        "1504\r\n",
        "1660\r\n",
        "1775\r\n",
        "1743\r\n",
        "1607\r\n",
        "1267\r\n",
        "1133\r\n",
        "292\r\n",
        "1646\r\n",
        "1285\r\n",
        "1808\r\n",
        "1512\r\n",
        "1839\r\n",
        "1869\r\n",
        "1578\r\n",
        "1318\r\n",
        "1385\r\n",
        "1829\r\n",
        "1800\r\n",
        "1491\r\n",
        "1600\r\n",
        "1290\r\n",
        "1856\r\n",
        "1781\r\n",
        "1881\r\n",
        "1953\r\n",
        "2008\r\n",
        "1681\r\n",
        "1472\r\n",
        "1846\r\n",
        "2010\r\n",
        "1619\r\n",
        "1584\r\n",
        "1849\r\n",
        "1876\r\n",
        "1744\r\n",
        "1980\r\n",
        "1421\r\n",
        "911\r\n",
        "1308\r\n",
        "1762\r\n",
        "1398\r\n",
        "1470\r\n",
        "1974\r\n",
        "1902\r\n",
        "1985\r\n",
        "2001\r\n",
        "1926\r\n",
        "1374\r\n",
        "1678\r\n",
        "1523\r\n",
        "1894\r\n",
        "1597\r\n",
        "1778\r\n",
        "1940\r\n",
        "1362\r\n",
        "1613\r\n",
        "1629\r\n",
        "1473\r\n",
        "1633\r\n",
        "1867\r\n",
        "1838\r\n",
        "1931\r\n",
        "1850\r\n",
        "1776\r\n",
        "1689\r\n",
        "1311\r\n",
        "1947\r\n",
        "1988\r\n",
        "1779\r\n",
        "1381\r\n",
        "1683\r\n",
        "1677\r\n",
        "1675\r\n",
        "1587\r\n",
        "767\r\n",
        "1401\r\n",
        "1412\r\n",
        "1544\r\n",
        "1484\r\n",
        "618\r\n",
        "1755\r\n",
        "1073\r\n",
        "1970\r\n",
        "1735\r\n",
        "1770\r\n",
        "1623\r\n",
        "1665\r\n",
        "1783\r\n",
        "1400\r\n",
        "1892\r\n",
        "1921\r\n",
        "1506\r\n",
        "1978\r\n",
        "1731\r\n",
        "1739\r\n",
        "1515\r\n",
        "1354\r\n",
        "1264\r\n",
        "1394\r\n",
        "1763\r\n",
        "1569\r\n",
        "1453\r\n",
        "1539\r\n",
        "2006\r\n",
        "1586\r\n",
        "1855\r\n",
        "1609\r\n",
        "1729\r\n",
        "1624\r\n",
        "506\r\n",
        "1668\r\n",
        "1803\r\n",
        "1486\r\n",
        "1767\r\n",
        "1720\r\n",
        "1753\r\n",
        "1994\r\n",
        "1718\r\n",
        "1922\r\n",
        "1314\r\n",
        "1250\r\n",
        "1516\r\n",
        "1546\r\n",
        "1625\r\n",
        "1708\r\n",
        "1286\r\n",
        "1993\r\n",
        "1785\r\n",
        "491\r\n",
        "1705\r\n",
        "1924\r\n",
        "1752\r\n",
        "1888\r\n",
        "1651\r\n",
        "1604\r\n",
        "1750\r\n",
        "1547\r\n",
        "1481\r\n",
        "1704\r\n",
        "1851\r\n",
        "904\r\n",
        "1920\r\n",
        "1939\r\n",
        "1277\r\n",
        "1870\r\n",
        "1934\r\n",
        "1617\r\n",
        "1833\r\n",
        "1797\r\n",
        "1817\r\n",
        "1967\r\n",
        "1935\r\n",
        "1914\r\n",
        "1621\r\n",
        "1468\r\n",
        "1859\r\n",
        "1552\r\n",
        "1640\r\n",
        "1709\r\n",
        "1121\r\n",
        "1973\r\n",
        "1343\r\n",
        "1266\r\n",
        "1806\r\n",
        "1360\r\n",
        "1299\r\n",
        "1990\r\n",
        "1356\r\n",
        "1631\r\n",
        "1555\r\n",
        "1811\r\n",
        "1323\r\n",
        "1794\r\n",
        "1550\r\n",
        "1448\r\n",
        "1848\r\n",
        "1826\r\n",
        "1723\r\n",
        "1891\r\n",
        "1302\r\n",
        "1655\r\n",
        "947\r\n",
        "1580\r\n",
        "1908\r\n",
        "1641\r\n",
        "1816\r\n",
        "1701\r\n",
        "1871\r\n",
        "1588\r\n",
        "1843\r\n",
        "1643\r\n",
        "1893\r\n",
        "1866\r\n",
        "1628\r\n",
        "1417\r\n",
        "1795\r\n",
        "1995\r\n",
        "1937'''\r\n"
      ],
      "execution_count": null,
      "outputs": []
    },
    {
      "cell_type": "code",
      "metadata": {
        "id": "Pxl8VrfpVf_9"
      },
      "source": [
        "num_list=[int(val) for val in input_int.split('\\n')]"
      ],
      "execution_count": null,
      "outputs": []
    },
    {
      "cell_type": "code",
      "metadata": {
        "id": "A2_9TFfxVi0-"
      },
      "source": [
        "def sum2020(num_list):\r\n",
        "    for index_num1 in range(len(num_list)-1):\r\n",
        "        for index_num2 in range(index_num1+1,len(num_list)):\r\n",
        "            if num_list[index_num1]+num_list[index_num2]==2020:\r\n",
        "                return num_list[index_num1]*num_list[index_num2]\r\n",
        "\r\n"
      ],
      "execution_count": null,
      "outputs": []
    },
    {
      "cell_type": "code",
      "metadata": {
        "colab": {
          "base_uri": "https://localhost:8080/"
        },
        "id": "TyIkiVTaXN5f",
        "outputId": "410127e7-f852-4b79-f107-c0ba304a8d14"
      },
      "source": [
        "sum2020(num_list)"
      ],
      "execution_count": null,
      "outputs": [
        {
          "output_type": "execute_result",
          "data": {
            "text/plain": [
              "1016131"
            ]
          },
          "metadata": {
            "tags": []
          },
          "execution_count": 18
        }
      ]
    },
    {
      "cell_type": "code",
      "metadata": {
        "id": "2xGRUwR5XU9D"
      },
      "source": [
        "1016131"
      ],
      "execution_count": null,
      "outputs": []
    },
    {
      "cell_type": "markdown",
      "metadata": {
        "id": "N1QDIDxQZO1Z"
      },
      "source": [
        "#**Advent of Code Ques1 part 2**"
      ]
    },
    {
      "cell_type": "code",
      "metadata": {
        "id": "-T13ZtJmZTgN"
      },
      "source": [
        "def sum2020_three(num_list):\r\n",
        "    for index_num1 in range(len(num_list)-2):\r\n",
        "        for index_num2 in range(index_num1+1,len(num_list)-1):\r\n",
        "            for index_num3 in range(index_num2+1,len(num_list)):\r\n",
        "                if num_list[index_num1]+num_list[index_num2]+num_list[index_num3]==2020:\r\n",
        "                    return num_list[index_num1]*num_list[index_num2]*num_list[index_num3]\r\n",
        "                #print(num_list[index_num1],'-',num_list[index_num2],'-',num_list[index_num3])\r\n",
        "\r\n"
      ],
      "execution_count": null,
      "outputs": []
    },
    {
      "cell_type": "code",
      "metadata": {
        "colab": {
          "base_uri": "https://localhost:8080/"
        },
        "id": "e7-_lAOlars5",
        "outputId": "ab430b13-df52-413a-ec54-de3559aafa46"
      },
      "source": [
        "#test\r\n",
        "sum2020_three([21,45,67,54,32])"
      ],
      "execution_count": null,
      "outputs": [
        {
          "output_type": "stream",
          "text": [
            "21 - 45 - 67\n",
            "21 - 45 - 54\n",
            "21 - 45 - 32\n",
            "21 - 67 - 54\n",
            "21 - 67 - 32\n",
            "21 - 54 - 32\n",
            "45 - 67 - 54\n",
            "45 - 67 - 32\n",
            "45 - 54 - 32\n",
            "67 - 54 - 32\n"
          ],
          "name": "stdout"
        }
      ]
    },
    {
      "cell_type": "code",
      "metadata": {
        "colab": {
          "base_uri": "https://localhost:8080/"
        },
        "id": "0jRc4UaSawUI",
        "outputId": "36d689fc-016f-48a1-a7c4-6a52c3ca752f"
      },
      "source": [
        "sum2020_three(num_list)"
      ],
      "execution_count": null,
      "outputs": [
        {
          "output_type": "execute_result",
          "data": {
            "text/plain": [
              "276432018"
            ]
          },
          "metadata": {
            "tags": []
          },
          "execution_count": 26
        }
      ]
    },
    {
      "cell_type": "markdown",
      "metadata": {
        "id": "gKRuinzndNa_"
      },
      "source": [
        "#Advent of Code Ques 2"
      ]
    },
    {
      "cell_type": "code",
      "metadata": {
        "colab": {
          "base_uri": "https://localhost:8080/"
        },
        "id": "r0ABAzL1cFcZ",
        "outputId": "91485c35-4e99-4a41-c7a5-ab07178b4910"
      },
      "source": [
        "count = 0\r\n",
        "for s in 'bbbnvbbb':\r\n",
        "    if s == 'b':\r\n",
        "        count += 1\r\n",
        "count"
      ],
      "execution_count": null,
      "outputs": [
        {
          "output_type": "execute_result",
          "data": {
            "text/plain": [
              "6"
            ]
          },
          "metadata": {
            "tags": []
          },
          "execution_count": 44
        }
      ]
    },
    {
      "cell_type": "code",
      "metadata": {
        "colab": {
          "base_uri": "https://localhost:8080/"
        },
        "id": "su1oW0hgdVPG",
        "outputId": "749c90ff-71bc-4c9e-e45f-daa27107cb99"
      },
      "source": [
        "test.split(\": \")"
      ],
      "execution_count": null,
      "outputs": [
        {
          "output_type": "execute_result",
          "data": {
            "text/plain": [
              "['15-16 f', 'ffffffffffffffhf']"
            ]
          },
          "metadata": {
            "tags": []
          },
          "execution_count": 29
        }
      ]
    },
    {
      "cell_type": "code",
      "metadata": {
        "colab": {
          "base_uri": "https://localhost:8080/"
        },
        "id": "42WS1mrgduy2",
        "outputId": "bf390336-ae87-450c-859f-92c85036e032"
      },
      "source": [
        "def validpassword():\r\n",
        "    valid = 0\r\n",
        "    invalid = 0\r\n",
        "    with open('data2.txt', 'r') as file:\r\n",
        "        data = file.read().split('\\n')\r\n",
        "        for policy in data:\r\n",
        "            # read the company policy\r\n",
        "            #policy = file.readline()\r\n",
        "            #print(policy)\r\n",
        "            password = policy.split(\": \")[1]\r\n",
        "            letter = policy.split(\": \")[0].split(\" \")[1]\r\n",
        "            least = int(policy.split(\": \")[0].split(\" \")[0].split(\"-\")[0])\r\n",
        "            most = int(policy.split(\": \")[0].split(\" \")[0].split(\"-\")[1])\r\n",
        "            # count a letter\r\n",
        "            count = 0\r\n",
        "            for s in password:\r\n",
        "                if s == letter:\r\n",
        "                    count += 1\r\n",
        "            #print(count)\r\n",
        "            # test the policy\r\n",
        "            if count in range(least,most+1):\r\n",
        "                valid += 1\r\n",
        "            else:\r\n",
        "                invalid +=1\r\n",
        "            \r\n",
        "                print('letter = ',letter, 'password = ', password, 'count = ', count, 'range = ', least,'-',most)\r\n",
        "            #print(i)\r\n",
        "            #i+=1\r\n",
        "    return valid, invalid\r\n",
        "validpassword()"
      ],
      "execution_count": null,
      "outputs": [
        {
          "output_type": "execute_result",
          "data": {
            "text/plain": [
              "(393, 607)"
            ]
          },
          "metadata": {
            "tags": []
          },
          "execution_count": 63
        }
      ]
    },
    {
      "cell_type": "code",
      "metadata": {
        "colab": {
          "base_uri": "https://localhost:8080/"
        },
        "id": "fB4d6lw7et4r",
        "outputId": "22e6a9a5-0b63-4956-fdd3-75c78126aed0"
      },
      "source": [
        "def validpassword_part2():\r\n",
        "    valid = 0\r\n",
        "    invalid = 0\r\n",
        "    with open('data2.txt', 'r') as file:\r\n",
        "        data = file.read().split('\\n')\r\n",
        "        for policy in data:\r\n",
        "            # read the company policy\r\n",
        "            #policy = file.readline()\r\n",
        "            #print(policy)\r\n",
        "            password = policy.split(\": \")[1]\r\n",
        "            letter = policy.split(\": \")[0].split(\" \")[1]\r\n",
        "            position1 = int(policy.split(\": \")[0].split(\" \")[0].split(\"-\")[0])\r\n",
        "            position2 = int(policy.split(\": \")[0].split(\" \")[0].split(\"-\")[1])\r\n",
        "            # check if password contains letter in either postion1 or position 2\r\n",
        "            if (letter == password[position1-1] and letter == password[position2-1]):\r\n",
        "                invalid += 1\r\n",
        "            elif (letter != password[position1-1] and letter != password[position2-1]):\r\n",
        "                invalid += 1\r\n",
        "            else:\r\n",
        "                valid +=1\r\n",
        "\r\n",
        "    return valid, invalid\r\n",
        "validpassword_part2()"
      ],
      "execution_count": null,
      "outputs": [
        {
          "output_type": "execute_result",
          "data": {
            "text/plain": [
              "(690, 310)"
            ]
          },
          "metadata": {
            "tags": []
          },
          "execution_count": 68
        }
      ]
    },
    {
      "cell_type": "markdown",
      "metadata": {
        "id": "zhwKsh1bjAZD"
      },
      "source": [
        "#Advent od Code Ques 3"
      ]
    },
    {
      "cell_type": "code",
      "metadata": {
        "id": "AOAT0f55q3FN",
        "colab": {
          "base_uri": "https://localhost:8080/"
        },
        "outputId": "8873210d-131c-4ae3-824f-f18452032db1"
      },
      "source": [
        "!curl \"https://adventofcode.com/2020/day/3/input\"\r\n",
        "!touch input3.txt"
      ],
      "execution_count": 2,
      "outputs": [
        {
          "output_type": "stream",
          "text": [
            "Puzzle inputs differ by user.  Please log in to get your puzzle input.\n"
          ],
          "name": "stdout"
        }
      ]
    },
    {
      "cell_type": "code",
      "metadata": {
        "id": "gSC5U9WUjPcJ"
      },
      "source": [
        "with open('input3.txt','r') as file:\r\n",
        "    terrain = file.read().split(\"\\n\")"
      ],
      "execution_count": 5,
      "outputs": []
    },
    {
      "cell_type": "code",
      "metadata": {
        "id": "qCQQTkZPkB3A"
      },
      "source": [
        "# convert terrain list as list of list\r\n",
        "for num, line in enumerate(terrain):\r\n",
        "    terrain[num] = [s for s in line]"
      ],
      "execution_count": 16,
      "outputs": []
    },
    {
      "cell_type": "code",
      "metadata": {
        "colab": {
          "base_uri": "https://localhost:8080/"
        },
        "id": "y5YzDqg5k2t4",
        "outputId": "3f6731be-5ce3-42d2-bb8e-e256cf98a265"
      },
      "source": [
        "# each line has 31 characters and there are total 323 lines we move 3 times to right and one time down\r\n",
        "# we would use modulo\r\n",
        "lr_cnt = 0\r\n",
        "tree_cnt = 0\r\n",
        "for line in terrain:\r\n",
        "    #print(line)\r\n",
        "    if line[lr_cnt] == '#':\r\n",
        "        tree_cnt += 1\r\n",
        "    #print('trees: ',tree_cnt)\r\n",
        "    lr_cnt += 3\r\n",
        "    lr_cnt = lr_cnt%len(line)\r\n",
        "tree_cnt \r\n"
      ],
      "execution_count": 30,
      "outputs": [
        {
          "output_type": "execute_result",
          "data": {
            "text/plain": [
              "237"
            ]
          },
          "metadata": {
            "tags": []
          },
          "execution_count": 30
        }
      ]
    },
    {
      "cell_type": "code",
      "metadata": {
        "colab": {
          "base_uri": "https://localhost:8080/"
        },
        "id": "TKpZgm_slsqo",
        "outputId": "525d67b5-cc0a-4154-e20b-228cb162940d"
      },
      "source": [
        "def slopes(l_r = 3, u_d =1):\r\n",
        "    lr_cnt = 0\r\n",
        "    tree_cnt = 0\r\n",
        "\r\n",
        "    with open('input3.txt','r') as file:\r\n",
        "        terrain = file.read().split(\"\\n\")\r\n",
        "    \r\n",
        "    # convert terrain list as list of list\r\n",
        "    for num, line in enumerate(terrain):\r\n",
        "        terrain[num] = [s for s in line]\r\n",
        "\r\n",
        "    for line in range(0, len(terrain), u_d):\r\n",
        "        #print(terrain[line])\r\n",
        "        if terrain[line][lr_cnt] == '#':\r\n",
        "            tree_cnt += 1\r\n",
        "        #print('trees: ',tree_cnt)\r\n",
        "        lr_cnt += l_r\r\n",
        "        lr_cnt = lr_cnt%len(terrain[line])\r\n",
        "\r\n",
        "    return tree_cnt\r\n",
        "slopes()"
      ],
      "execution_count": 44,
      "outputs": [
        {
          "output_type": "execute_result",
          "data": {
            "text/plain": [
              "237"
            ]
          },
          "metadata": {
            "tags": []
          },
          "execution_count": 44
        }
      ]
    },
    {
      "cell_type": "code",
      "metadata": {
        "colab": {
          "base_uri": "https://localhost:8080/"
        },
        "id": "eVU1HoyclwOV",
        "outputId": "39c76511-05f7-424d-d034-4e5bab616f86"
      },
      "source": [
        "def ques3_part2():\r\n",
        "    return slopes(1,1)*slopes(3,1)*slopes(5,1)*slopes(7,1)*slopes(1,2)\r\n",
        "ques3_part2()"
      ],
      "execution_count": 46,
      "outputs": [
        {
          "output_type": "execute_result",
          "data": {
            "text/plain": [
              "2106818610"
            ]
          },
          "metadata": {
            "tags": []
          },
          "execution_count": 46
        }
      ]
    },
    {
      "cell_type": "code",
      "metadata": {
        "colab": {
          "base_uri": "https://localhost:8080/"
        },
        "id": "xiVH5WxLwBhH",
        "outputId": "4f40cecb-0839-434c-a0b3-1cd7581dd3ca"
      },
      "source": [
        "2106818610/237"
      ],
      "execution_count": 47,
      "outputs": [
        {
          "output_type": "execute_result",
          "data": {
            "text/plain": [
              "8889530.0"
            ]
          },
          "metadata": {
            "tags": []
          },
          "execution_count": 47
        }
      ]
    },
    {
      "cell_type": "code",
      "metadata": {
        "id": "JIQavaxOwcdJ"
      },
      "source": [
        ""
      ],
      "execution_count": null,
      "outputs": []
    }
  ]
}