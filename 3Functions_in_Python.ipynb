{
 "cells": [
  {
   "cell_type": "markdown",
   "metadata": {},
   "source": [
    "# Sorting a list into buckets\n",
    "1. loop over the names of the files\n",
    "2. figure out which group each filename belongs\n",
    "3. append the filename to that list"
   ]
  },
  {
   "cell_type": "code",
   "execution_count": 36,
   "metadata": {},
   "outputs": [
    {
     "name": "stdout",
     "output_type": "stream",
     "text": [
      "\n",
      " ['inflammation-01.csv', 'inflammation-02.csv', 'inflammation-03.csv', 'inflammation-04.csv', 'inflammation-05.csv', 'inflammation-06.csv', 'inflammation-07.csv', 'inflammation-08.csv', 'inflammation-09.csv', 'inflammation-10.csv', 'inflammation-11.csv', 'inflammation-12.csv'] \n",
      " ['small-01.csv', 'small-02.csv', 'small-03.csv'] \n",
      " ['stats.txt']\n"
     ]
    }
   ],
   "source": [
    "import glob \n",
    "files = glob.glob('*')\n",
    "large_files = []\n",
    "small_files = []\n",
    "other_files = []\n",
    "for f in files:\n",
    "    if f.startswith('inflammation'):\n",
    "        large_files.append(f)\n",
    "    elif f.startswith('small'):\n",
    "        small_files.append(f)\n",
    "    else:\n",
    "        other_files.append(f)\n",
    "print('\\n',large_files,'\\n',small_files,'\\n',other_files)"
   ]
  },
  {
   "cell_type": "markdown",
   "metadata": {},
   "source": [
    "# Command Line Programs\n",
    "##### Create a file sys_version.py\n",
    "import sys; \n",
    "print('version is', sys.version)\n",
    "##### Create a file argv_list.py\n",
    "import sys; \n",
    "print('sys.argv is',sys.argv)"
   ]
  },
  {
   "cell_type": "markdown",
   "metadata": {},
   "source": [
    "1. Program to pay attention to the --min, --mean, and --max flags"
   ]
  },
  {
   "cell_type": "code",
   "execution_count": null,
   "metadata": {},
   "outputs": [],
   "source": [
    "import os\n",
    "os.chdir(r'E:\\PYTHON PRAC\\Lantern\\data')\n",
    "\n",
    "import sys\n",
    "import numpy \n",
    "\n",
    "def main():\n",
    "\tscript = sys.argv[0]\n",
    "\tfilename = sys.argv[1]\n",
    "\tdata = numpy.loadtxt(filename, delimiter = ',')\n",
    "\tfor m in numpy.mean(data, axis = 1):\n",
    "\t\tprint(m)\n",
    "# There would be no output to the command line as there is nothing to call\n",
    "if __name__ =='__main__':\n",
    "\tmain()\n",
    "\n"
   ]
  },
  {
   "cell_type": "markdown",
   "metadata": {},
   "source": [
    "2. Program to process each file out of loop into its own function"
   ]
  },
  {
   "cell_type": "code",
   "execution_count": null,
   "metadata": {},
   "outputs": [],
   "source": [
    "import os\n",
    "os.chdir(r'E:\\PYTHON PRAC\\Lantern\\data')\n",
    "\n",
    "import sys\n",
    "import numpy \n",
    "\n",
    "def main():\n",
    "\tscript = sys.argv[0]\n",
    "\taction = sys.argv[1]\n",
    "\tfilename = sys.argv[2]\n",
    "\t\n",
    "\tfor f in filename:\n",
    "\t\tdata = numpy.loadtxt(filename, delimiter = ',')\n",
    "\t\tif action =='--max':\n",
    "\t\t\tl = data.max(axis=1)\n",
    "\t\telif action =='--min':\n",
    "\t\t\tl = data.min(axis=1)\n",
    "\t\telif action =='--mean':\n",
    "\t\t\tl = data.mean(axis=1)\n",
    "\tfor element in l:\n",
    "\t\tprint(element,end=\"  \")\n",
    "\t\t\n",
    "# There would be no output to the command line as there is nothing to call\n",
    "if __name__ =='__main__':\n",
    "\tmain()\n"
   ]
  },
  {
   "cell_type": "markdown",
   "metadata": {},
   "source": [
    "3. Program that loads data from sys.stdin if no file name is provided"
   ]
  },
  {
   "cell_type": "code",
   "execution_count": null,
   "metadata": {},
   "outputs": [],
   "source": [
    "import os\n",
    "os.chdir(r'E:\\PYTHON PRAC\\Lantern\\data')\n",
    "\n",
    "import sys\n",
    "import numpy \n",
    "\n",
    "def main():\n",
    "\tscript = sys.argv[0]\n",
    "\taction = sys.argv[1]\n",
    "\tfilename = sys.argv[2]\n",
    "\t\n",
    "\n",
    "\tassert action in ['--min','--max','--mean'], 'Invalid Action'\n",
    "\t\n",
    "\tdata_processing(filename,action)\n",
    "\n",
    "def data_processing(file,action):\n",
    "\tdata = numpy.loadtxt(file, delimiter = ',')\n",
    "\tif action =='--max':\n",
    "\t\tl = data.max(axis=1)\n",
    "\telif action =='--min':\n",
    "\t\tl = data.min(axis=1)\n",
    "\telse:\n",
    "\t\tl = data.mean(axis=1)\n",
    "\tfor element in l:\n",
    "\t\tprint(element,end=\"  \")\n",
    "\t\t\n",
    "# There would be no output to the command line as there is nothing to call\n",
    "if __name__ =='__main__':\n",
    "\tmain()\n"
   ]
  },
  {
   "cell_type": "markdown",
   "metadata": {},
   "source": [
    "# Restaurant with least combined rank"
   ]
  },
  {
   "cell_type": "code",
   "execution_count": 2,
   "metadata": {},
   "outputs": [
    {
     "name": "stdout",
     "output_type": "stream",
     "text": [
      "Hi A! enter the restaurants you wish to go this time (use commas):\n",
      "El Farolito,Japa Curry, Eatsa\n",
      "Hi B! enter the restaurants you wish to go this time (use commas):\n",
      "Japa Curry, Eatsa,Ayola,Working Girls\n",
      "This time you are going to  Japa Curry\n"
     ]
    }
   ],
   "source": [
    "def restaurant():\n",
    "    A = input('Hi A! enter the restaurants you wish to go this time (use commas):\\n')\n",
    "    B = input('Hi B! enter the restaurants you wish to go this time (use commas):\\n')\n",
    "\n",
    "    list_A = A.split(',')\n",
    "    list_B = B.split(',')\n",
    "    common_data(list_A,list_B)\n",
    "\n",
    "\n",
    "\n",
    "def common_data(list1, list2): \n",
    "    result = False\n",
    "    for x in list1: \n",
    "        for y in list2: \n",
    "            if x == y: \n",
    "                result = True\n",
    "    least_rank(list1,list2,result)\n",
    "\n",
    "            \n",
    "def least_rank(list1,list2,result):\n",
    "    if result == True:\n",
    "        ranklist = []\n",
    "        for element in list1:\n",
    "            rankval = list1.index(element)\n",
    "            if element in list2:\n",
    "                rankval = rankval + list2.index(element)\n",
    "                ranklist.append(rankval)\n",
    "    \n",
    "            else:\n",
    "                rankval = rankval + 999\n",
    "                ranklist.append(rankval)\n",
    "        l_rank = min(ranklist)\n",
    "        n = ranklist.index(l_rank)\n",
    "        print('\\nThis time you are going to ',list1[n])\n",
    "    else:\n",
    "        print('\\nThis time its Yummy')\n",
    "\n",
    "\n",
    "restaurant()"
   ]
  },
  {
   "cell_type": "markdown",
   "metadata": {},
   "source": [
    "# Greatest Common Divisor"
   ]
  },
  {
   "cell_type": "code",
   "execution_count": 3,
   "metadata": {},
   "outputs": [
    {
     "name": "stdout",
     "output_type": "stream",
     "text": [
      "Enter number for which you would like to know GCD:12\n",
      "Enter number for which you would like to know GCD:18\n",
      "\n",
      "GCD is 6\n"
     ]
    }
   ],
   "source": [
    "def gcd(x, y):\n",
    "    while y != 0:\n",
    "        (x, y) = (y, x % y)\n",
    "    print('\\nGCD is', x)\n",
    "    return \n",
    "\n",
    "def two_num_input():\n",
    "    a = input('Enter number for which you would like to know GCD:')\n",
    "    b = input('Enter number for which you would like to know GCD:')\n",
    "    gcd(int(a),int(b))\n",
    "\n",
    "two_num_input()"
   ]
  },
  {
   "cell_type": "code",
   "execution_count": null,
   "metadata": {},
   "outputs": [],
   "source": []
  }
 ],
 "metadata": {
  "kernelspec": {
   "display_name": "Python 3",
   "language": "python",
   "name": "python3"
  },
  "language_info": {
   "codemirror_mode": {
    "name": "ipython",
    "version": 3
   },
   "file_extension": ".py",
   "mimetype": "text/x-python",
   "name": "python",
   "nbconvert_exporter": "python",
   "pygments_lexer": "ipython3",
   "version": "3.7.3"
  }
 },
 "nbformat": 4,
 "nbformat_minor": 2
}
